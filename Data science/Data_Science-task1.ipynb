{
 "cells": [
  {
   "cell_type": "code",
   "execution_count": 1,
   "id": "96de6d42-75b6-4bf3-aca8-5524910207f5",
   "metadata": {},
   "outputs": [
    {
     "name": "stdout",
     "output_type": "stream",
     "text": [
      "Initial List: []\n",
      "Initial Dictionary: {}\n",
      "Initial Set: set()\n",
      "\n",
      "List after adding elements: [1, 2, 3]\n",
      "Dictionary after adding elements: {'a': 1, 'b': 2, 'c': 3}\n",
      "Set after adding elements: {1, 2, 3}\n",
      "\n",
      "List after removing element 2: [1, 3]\n",
      "Dictionary after removing key 'b': {'a': 1, 'c': 3}\n",
      "Set after removing element 2: {1, 3}\n",
      "\n",
      "List after modifying first element: [10, 3]\n",
      "Dictionary after modifying value of key 'a': {'a': 10, 'c': 3}\n",
      "Set after modifying element 1 to 10 (indirectly): {10, 3}\n"
     ]
    }
   ],
   "source": [
    "# Creating an empty list\n",
    "Abuzar_list = []\n",
    "\n",
    "# Creating an empty dictionary\n",
    "Abuzar_dict = {}\n",
    "\n",
    "# Creating an empty set\n",
    "Abuzar_set = set()\n",
    "\n",
    "# Initial state\n",
    "print(\"Initial List:\", Abuzar_list)\n",
    "print(\"Initial Dictionary:\", Abuzar_dict)\n",
    "print(\"Initial Set:\", Abuzar_set)\n",
    "\n",
    "# Adding elements\n",
    "# List\n",
    "Abuzar_list.append(1)\n",
    "Abuzar_list.append(2)\n",
    "Abuzar_list.append(3)\n",
    "print(\"\\nList after adding elements:\", Abuzar_list)\n",
    "\n",
    "# Dictionary\n",
    "Abuzar_dict['a'] = 1\n",
    "Abuzar_dict['b'] = 2\n",
    "Abuzar_dict['c'] = 3\n",
    "print(\"Dictionary after adding elements:\", Abuzar_dict)\n",
    "\n",
    "# Set\n",
    "Abuzar_set.add(1)\n",
    "Abuzar_set.add(2)\n",
    "Abuzar_set.add(3)\n",
    "print(\"Set after adding elements:\", Abuzar_set)\n",
    "\n",
    "# Removing elements\n",
    "# List\n",
    "Abuzar_list.remove(2)\n",
    "print(\"\\nList after removing element 2:\", Abuzar_list)\n",
    "\n",
    "# Dictionary\n",
    "Abuzar_dict.pop('b')\n",
    "print(\"Dictionary after removing key 'b':\", Abuzar_dict)\n",
    "\n",
    "# Set\n",
    "Abuzar_set.remove(2)\n",
    "print(\"Set after removing element 2:\", Abuzar_set)\n",
    "\n",
    "# Modifying elements\n",
    "# List\n",
    "Abuzar_list[0] = 10\n",
    "print(\"\\nList after modifying first element:\", Abuzar_list)\n",
    "\n",
    "# Dictionary\n",
    "Abuzar_dict['a'] = 10\n",
    "print(\"Dictionary after modifying value of key 'a':\", Abuzar_dict)\n",
    "\n",
    "# Set\n",
    "# Sets do not support direct modification, so we remove and add elements instead\n",
    "Abuzar_set.remove(1)\n",
    "Abuzar_set.add(10)\n",
    "print(\"Set after modifying element 1 to 10 (indirectly):\", Abuzar_set)\n"
   ]
  },
  {
   "cell_type": "code",
   "execution_count": null,
   "id": "3d6cd1da-0c7a-4360-bdc1-3183dfb5049d",
   "metadata": {},
   "outputs": [],
   "source": []
  }
 ],
 "metadata": {
  "kernelspec": {
   "display_name": "Python 3 (ipykernel)",
   "language": "python",
   "name": "python3"
  },
  "language_info": {
   "codemirror_mode": {
    "name": "ipython",
    "version": 3
   },
   "file_extension": ".py",
   "mimetype": "text/x-python",
   "name": "python",
   "nbconvert_exporter": "python",
   "pygments_lexer": "ipython3",
   "version": "3.11.1"
  }
 },
 "nbformat": 4,
 "nbformat_minor": 5
}
